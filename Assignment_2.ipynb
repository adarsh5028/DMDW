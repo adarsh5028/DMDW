{
  "nbformat": 4,
  "nbformat_minor": 0,
  "metadata": {
    "colab": {
      "name": "Assignment-2.ipynb",
      "provenance": [],
      "collapsed_sections": [],
      "authorship_tag": "ABX9TyPoYjpAGMuLwzuZt8tNdAFo",
      "include_colab_link": true
    },
    "kernelspec": {
      "name": "python3",
      "display_name": "Python 3"
    },
    "language_info": {
      "name": "python"
    }
  },
  "cells": [
    {
      "cell_type": "markdown",
      "metadata": {
        "id": "view-in-github",
        "colab_type": "text"
      },
      "source": [
        "<a href=\"https://colab.research.google.com/github/adarsh5028/DMDW/blob/main/Assignment_2.ipynb\" target=\"_parent\"><img src=\"https://colab.research.google.com/assets/colab-badge.svg\" alt=\"Open In Colab\"/></a>"
      ]
    },
    {
      "cell_type": "markdown",
      "metadata": {
        "id": "hCTBPqt9ErmJ"
      },
      "source": [
        "1. Download a dataset from kaggle and upload it in google colab or jupyter notebook. Perform any random operation on the dataset"
      ]
    },
    {
      "cell_type": "code",
      "metadata": {
        "id": "yr4aSw9ZEsny"
      },
      "source": [
        "import pandas as pd\n",
        "x = pd.read_csv(\"iris.csv\")\n",
        "print(x)"
      ],
      "execution_count": null,
      "outputs": []
    },
    {
      "cell_type": "markdown",
      "metadata": {
        "id": "4JguqRNKkoVc"
      },
      "source": [
        ""
      ]
    },
    {
      "cell_type": "markdown",
      "metadata": {
        "id": "GqTl0s6TKOwa"
      },
      "source": [
        "2. Defining three random arrays: a one d array(x1), 2d array(x2),and 3d array(x3).Numpy as random number generator , which we willseed with a set value in order to ensure to this code issue.Display the ndim, shape and size of the third array(x3)"
      ]
    },
    {
      "cell_type": "code",
      "metadata": {
        "colab": {
          "base_uri": "https://localhost:8080/"
        },
        "id": "HAukSvYjKY1K",
        "outputId": "9719b61b-ef11-47aa-99e5-914924a1f82f"
      },
      "source": [
        "import numpy as np\n",
        "np.random.seed(0)\n",
        "x1 = np.random.randint(10,size=3)\n",
        "x2 = np.random.randint(10,size = (3,4))\n",
        "x3 = np.random.randint(10,size=(3,4,5))\n",
        "print(\"x3 ndim: \",x3.ndim)\n",
        "print(\"x3 shape: \",x3.shape)\n",
        "print(\"x3 size: \",x3.size)"
      ],
      "execution_count": null,
      "outputs": [
        {
          "output_type": "stream",
          "name": "stdout",
          "text": [
            "x3 ndim:  3\n",
            "x3 shape:  (3, 4, 5)\n",
            "x3 size:  60\n"
          ]
        }
      ]
    },
    {
      "cell_type": "markdown",
      "metadata": {
        "id": "9_c6rFBSKp49"
      },
      "source": [
        "3. create two numpy array named x and y at integers using range (1 to 10) and (11 to 20) command. Next create a new array 2 by concatenating x and y."
      ]
    },
    {
      "cell_type": "code",
      "metadata": {
        "colab": {
          "base_uri": "https://localhost:8080/"
        },
        "id": "7M_nNn1bKuR3",
        "outputId": "cb181887-bd95-4d26-eac3-baf19006cec4"
      },
      "source": [
        "x = np.arange(1,10,dtype = int)\n",
        "y = np.arange(11,20,dtype = int)\n",
        "z = np.concatenate((x,y))\n",
        "z"
      ],
      "execution_count": null,
      "outputs": [
        {
          "output_type": "execute_result",
          "data": {
            "text/plain": [
              "array([ 1,  2,  3,  4,  5,  6,  7,  8,  9, 11, 12, 13, 14, 15, 16, 17, 18,\n",
              "       19])"
            ]
          },
          "metadata": {},
          "execution_count": 7
        }
      ]
    },
    {
      "cell_type": "markdown",
      "metadata": {
        "id": "Gw_JazRYK1m1"
      },
      "source": [
        "4. Define a 2 dimensional array named x of integers using range(1-10) command.Next perform x+5,x-5,x/5,x^2,x%2,log(x),log2)(x),log10(x) operation over x.Compute some trignometric functions(sin,cos,tan) on x."
      ]
    },
    {
      "cell_type": "code",
      "metadata": {
        "colab": {
          "base_uri": "https://localhost:8080/"
        },
        "id": "wFU4GEl8K5WY",
        "outputId": "e64ba9f6-7755-42fd-ca7d-a3f742822553"
      },
      "source": [
        "import numpy as np\n",
        "x = np.arange(1,10,dtype = int)\n",
        "print(\"x+5: \",x+5)\n",
        "print(\"x-5: \",x-5)\n",
        "print(\"x/5: \",x/5)\n",
        "print(\"x*5\",x*5)\n",
        "print(\"x^2: \",np.power(x,2))\n",
        "print(\"x%2: \",np.mod(x,2))\n",
        "print(\"log(x): \",np.log(x))\n",
        "print(\"log2(x): \",np.log2(x))\n",
        "print(\"log10(x): \",np.log10(x))\n",
        "print(\"sin: \",np.sin(x))\n",
        "print(\"cos: \",np.cos(x))\n",
        "print(\"tan: \",np.tan(x))"
      ],
      "execution_count": null,
      "outputs": [
        {
          "output_type": "stream",
          "name": "stdout",
          "text": [
            "x+5:  [ 6  7  8  9 10 11 12 13 14]\n",
            "x-5:  [-4 -3 -2 -1  0  1  2  3  4]\n",
            "x/5:  [0.2 0.4 0.6 0.8 1.  1.2 1.4 1.6 1.8]\n",
            "x*5 [ 5 10 15 20 25 30 35 40 45]\n",
            "x^2:  [ 1  4  9 16 25 36 49 64 81]\n",
            "x%2:  [1 0 1 0 1 0 1 0 1]\n",
            "log(x):  [0.         0.69314718 1.09861229 1.38629436 1.60943791 1.79175947\n",
            " 1.94591015 2.07944154 2.19722458]\n",
            "log2(x):  [0.         1.         1.5849625  2.         2.32192809 2.5849625\n",
            " 2.80735492 3.         3.169925  ]\n",
            "log10(x):  [0.         0.30103    0.47712125 0.60205999 0.69897    0.77815125\n",
            " 0.84509804 0.90308999 0.95424251]\n",
            "sin:  [ 0.84147098  0.90929743  0.14112001 -0.7568025  -0.95892427 -0.2794155\n",
            "  0.6569866   0.98935825  0.41211849]\n",
            "cos:  [ 0.54030231 -0.41614684 -0.9899925  -0.65364362  0.28366219  0.96017029\n",
            "  0.75390225 -0.14550003 -0.91113026]\n",
            "tan:  [ 1.55740772 -2.18503986 -0.14254654  1.15782128 -3.38051501 -0.29100619\n",
            "  0.87144798 -6.79971146 -0.45231566]\n"
          ]
        }
      ]
    }
  ]
}